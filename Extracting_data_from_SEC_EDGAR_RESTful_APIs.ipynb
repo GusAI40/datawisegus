{
  "metadata": {
    "kernelspec": {
      "language": "python",
      "display_name": "Python 3",
      "name": "python3"
    },
    "language_info": {
      "name": "python",
      "version": "3.7.12",
      "mimetype": "text/x-python",
      "codemirror_mode": {
        "name": "ipython",
        "version": 3
      },
      "pygments_lexer": "ipython3",
      "nbconvert_exporter": "python",
      "file_extension": ".py"
    },
    "kaggle": {
      "accelerator": "none",
      "dataSources": [
        {
          "sourceId": 7005648,
          "sourceType": "datasetVersion",
          "datasetId": 2471230
        }
      ],
      "dockerImageVersionId": 30235,
      "isInternetEnabled": true,
      "language": "python",
      "sourceType": "notebook",
      "isGpuEnabled": false
    },
    "colab": {
      "name": "Extracting data from SEC EDGAR RESTful APIs",
      "provenance": [],
      "include_colab_link": true
    }
  },
  "nbformat_minor": 0,
  "nbformat": 4,
  "cells": [
    {
      "cell_type": "markdown",
      "metadata": {
        "id": "view-in-github",
        "colab_type": "text"
      },
      "source": [
        "<a href=\"https://colab.research.google.com/github/GusAI40/datawisegus/blob/main/Extracting_data_from_SEC_EDGAR_RESTful_APIs.ipynb\" target=\"_parent\"><img src=\"https://colab.research.google.com/assets/colab-badge.svg\" alt=\"Open In Colab\"/></a>"
      ]
    },
    {
      "source": [
        "\n",
        "# IMPORTANT: RUN THIS CELL IN ORDER TO IMPORT YOUR KAGGLE DATA SOURCES\n",
        "# TO THE CORRECT LOCATION (/kaggle/input) IN YOUR NOTEBOOK,\n",
        "# THEN FEEL FREE TO DELETE THIS CELL.\n",
        "# NOTE: THIS NOTEBOOK ENVIRONMENT DIFFERS FROM KAGGLE'S PYTHON\n",
        "# ENVIRONMENT SO THERE MAY BE MISSING LIBRARIES USED BY YOUR\n",
        "# NOTEBOOK.\n",
        "\n",
        "import os\n",
        "import sys\n",
        "from tempfile import NamedTemporaryFile\n",
        "from urllib.request import urlopen\n",
        "from urllib.parse import unquote, urlparse\n",
        "from urllib.error import HTTPError\n",
        "from zipfile import ZipFile\n",
        "import tarfile\n",
        "import shutil\n",
        "\n",
        "CHUNK_SIZE = 40960\n",
        "DATA_SOURCE_MAPPING = 'sec-edgar-cik-ticker-exchange:https%3A%2F%2Fstorage.googleapis.com%2Fkaggle-data-sets%2F2471230%2F7005648%2Fbundle%2Farchive.zip%3FX-Goog-Algorithm%3DGOOG4-RSA-SHA256%26X-Goog-Credential%3Dgcp-kaggle-com%2540kaggle-161607.iam.gserviceaccount.com%252F20240702%252Fauto%252Fstorage%252Fgoog4_request%26X-Goog-Date%3D20240702T011448Z%26X-Goog-Expires%3D259200%26X-Goog-SignedHeaders%3Dhost%26X-Goog-Signature%3D04c52c559beb7aac2e949b0f66cf231b5fcb6cc9c71812fe10c3f4b4acdc9e98d402062b94d9f7a2096fa8060c7d1e3adb1327c098ff4e775f0a52b5f6d3d627061d8021b254b65f3619c6ad75dfcd8197d87a05ca555a8af8008d5eedd52710706355734fe0441cb15a6f65535c978fe349ccc1d9760e2f4eba52def96a09588a70a47bf48b98f994c0e6f9e2ee08a7d5748207f5ece2f3271c2a36bb3ef7a0e9770dbd113b5bfcc90842001868e0457f69550a10feca3bda8f18aa50923c9933ecfa8a666f3fe7fe52bf3a481533f24762401d7033c88c2bb369d5fb2dab7b4b71e8aeb2e608cd13179e586554c01841484bf41f70e0450bbec9215f42f640'\n",
        "\n",
        "KAGGLE_INPUT_PATH='/kaggle/input'\n",
        "KAGGLE_WORKING_PATH='/kaggle/working'\n",
        "KAGGLE_SYMLINK='kaggle'\n",
        "\n",
        "!umount /kaggle/input/ 2> /dev/null\n",
        "shutil.rmtree('/kaggle/input', ignore_errors=True)\n",
        "os.makedirs(KAGGLE_INPUT_PATH, 0o777, exist_ok=True)\n",
        "os.makedirs(KAGGLE_WORKING_PATH, 0o777, exist_ok=True)\n",
        "\n",
        "try:\n",
        "  os.symlink(KAGGLE_INPUT_PATH, os.path.join(\"..\", 'input'), target_is_directory=True)\n",
        "except FileExistsError:\n",
        "  pass\n",
        "try:\n",
        "  os.symlink(KAGGLE_WORKING_PATH, os.path.join(\"..\", 'working'), target_is_directory=True)\n",
        "except FileExistsError:\n",
        "  pass\n",
        "\n",
        "for data_source_mapping in DATA_SOURCE_MAPPING.split(','):\n",
        "    directory, download_url_encoded = data_source_mapping.split(':')\n",
        "    download_url = unquote(download_url_encoded)\n",
        "    filename = urlparse(download_url).path\n",
        "    destination_path = os.path.join(KAGGLE_INPUT_PATH, directory)\n",
        "    try:\n",
        "        with urlopen(download_url) as fileres, NamedTemporaryFile() as tfile:\n",
        "            total_length = fileres.headers['content-length']\n",
        "            print(f'Downloading {directory}, {total_length} bytes compressed')\n",
        "            dl = 0\n",
        "            data = fileres.read(CHUNK_SIZE)\n",
        "            while len(data) > 0:\n",
        "                dl += len(data)\n",
        "                tfile.write(data)\n",
        "                done = int(50 * dl / int(total_length))\n",
        "                sys.stdout.write(f\"\\r[{'=' * done}{' ' * (50-done)}] {dl} bytes downloaded\")\n",
        "                sys.stdout.flush()\n",
        "                data = fileres.read(CHUNK_SIZE)\n",
        "            if filename.endswith('.zip'):\n",
        "              with ZipFile(tfile) as zfile:\n",
        "                zfile.extractall(destination_path)\n",
        "            else:\n",
        "              with tarfile.open(tfile.name) as tarfile:\n",
        "                tarfile.extractall(destination_path)\n",
        "            print(f'\\nDownloaded and uncompressed: {directory}')\n",
        "    except HTTPError as e:\n",
        "        print(f'Failed to load (likely expired) {download_url} to path {destination_path}')\n",
        "        continue\n",
        "    except OSError as e:\n",
        "        print(f'Failed to load {download_url} to path {destination_path}')\n",
        "        continue\n",
        "\n",
        "print('Data source import complete.')\n"
      ],
      "metadata": {
        "id": "duI0T8mZAjiL",
        "outputId": "4ca35eec-9199-48c0-d46f-96666bfc2306",
        "colab": {
          "base_uri": "https://localhost:8080/"
        }
      },
      "cell_type": "code",
      "outputs": [
        {
          "output_type": "stream",
          "name": "stdout",
          "text": [
            "Downloading sec-edgar-cik-ticker-exchange, 189367 bytes compressed\n",
            "[==================================================] 189367 bytes downloaded\n",
            "Downloaded and uncompressed: sec-edgar-cik-ticker-exchange\n",
            "Data source import complete.\n"
          ]
        }
      ],
      "execution_count": 1
    },
    {
      "cell_type": "markdown",
      "source": [
        "# Using SEC EDGAR RESTful data APIs\n",
        "\n",
        "This notebook shows how to retrieve information reported by regulated entities to U.S. Securities and Exchange Commision (SEC).\n",
        "\n",
        "SEC is maintainig EDGAR system with information about all regulated enties (companies, funds, individuals). Accessing the data is free and there is number of [various ways how to access the data](https://www.sec.gov/os/accessing-edgar-data).\n",
        "\n",
        "\"data.sec.gov\" was created to host RESTful data Application Programming Interfaces (APIs) delivering JSON-formatted data to external customers and to web pages on SEC.gov. These APIs do not require any authentication or API keys to access.\n",
        "\n",
        "Currently included in the APIs are the submissions history by filer and the XBRL data from financial statements (forms 10-Q, 10-K,8-K, 20-F, 40-F, 6-K, and their variants).\n",
        "\n",
        "The JSON structures are updated throughout the day, in real time, as submissions are disseminated."
      ],
      "metadata": {
        "id": "28xehsxeAjiO"
      }
    },
    {
      "cell_type": "code",
      "source": [
        "# This Python 3 environment comes with many helpful analytics libraries installed\n",
        "# It is defined by the kaggle/python Docker image: https://github.com/kaggle/docker-python\n",
        "# For example, here's several helpful packages to load\n",
        "\n",
        "import numpy as np # linear algebra\n",
        "import pandas as pd # data processing, CSV file I/O (e.g. pd.read_csv)\n",
        "\n",
        "# Input data files are available in the read-only \"../input/\" directory\n",
        "# For example, running this (by clicking run or pressing Shift+Enter) will list all files under the input directory\n",
        "\n",
        "import os\n",
        "for dirname, _, filenames in os.walk('/kaggle/input'):\n",
        "    for filename in filenames:\n",
        "        print(os.path.join(dirname, filename))\n",
        "\n",
        "# You can write up to 20GB to the current directory (/kaggle/working/) that gets preserved as output when you create a version using \"Save & Run All\"\n",
        "# You can also write temporary files to /kaggle/temp/, but they won't be saved outside of the current session"
      ],
      "metadata": {
        "_uuid": "8f2839f25d086af736a60e9eeb907d3b93b6e0e5",
        "_cell_guid": "b1076dfc-b9ad-4769-8c92-a6c4dae69d19",
        "execution": {
          "iopub.status.busy": "2024-02-18T12:36:50.155642Z",
          "iopub.execute_input": "2024-02-18T12:36:50.156164Z",
          "iopub.status.idle": "2024-02-18T12:36:50.170406Z",
          "shell.execute_reply.started": "2024-02-18T12:36:50.156114Z",
          "shell.execute_reply": "2024-02-18T12:36:50.168998Z"
        },
        "trusted": true,
        "id": "Iy4ZaT42AjiP",
        "outputId": "84044a40-93f6-4fd8-d01b-d89e25085b8e",
        "colab": {
          "base_uri": "https://localhost:8080/"
        }
      },
      "execution_count": 2,
      "outputs": [
        {
          "output_type": "stream",
          "name": "stdout",
          "text": [
            "/kaggle/input/sec-edgar-cik-ticker-exchange/company_tickers_exchange.json\n"
          ]
        }
      ]
    },
    {
      "cell_type": "code",
      "source": [
        "# data are published in JSON format so we will need json library\n",
        "import json\n"
      ],
      "metadata": {
        "execution": {
          "iopub.status.busy": "2024-02-18T12:36:51.910557Z",
          "iopub.execute_input": "2024-02-18T12:36:51.910974Z",
          "iopub.status.idle": "2024-02-18T12:36:51.917163Z",
          "shell.execute_reply.started": "2024-02-18T12:36:51.91094Z",
          "shell.execute_reply": "2024-02-18T12:36:51.915728Z"
        },
        "trusted": true,
        "id": "3BHZjUruAjiQ"
      },
      "execution_count": null,
      "outputs": []
    },
    {
      "cell_type": "markdown",
      "source": [
        "# Finding CIK of company\n",
        "\n",
        "EDGAR assigns to filers a unique numerical identifier, known as a Central Index Key (CIK), when they sign up to make filings to the SEC. CIK numbers remain unique to the filer; they are not recycled.\n",
        "\n",
        "List of all CIKs matched with entity name is available for download [(13 MB, text file)](https://www.sec.gov/Archives/edgar/cik-lookup-data.txt). Note that this list includes funds and individuals and is historically cumulative for company names. Thus a given CIK may be associated with multiple names in the case of company or fund name changes, and the list contains some entities that no longer file with the SEC.\n",
        "\n",
        "We will be using smaller (611 kB) JSON [kaggle dataset](https://www.kaggle.com/datasets/svendaj/sec-edgar-cik-ticker-exchange), which is sourcing data directly at EDGAR and is input for this notebook. This dataset contains only companies names, CIK, ticker and associated stock exchange."
      ],
      "metadata": {
        "id": "ynJqBT3LAjiQ"
      }
    },
    {
      "cell_type": "code",
      "source": [
        "# Let's convert CIK JSON to pandas DataFrame\n",
        "# First load the data into python dictionary\n",
        "\n",
        "with open(\"../input/sec-edgar-cik-ticker-exchange/company_tickers_exchange.json\", \"r\") as f:\n",
        "    CIK_dict = json.load(f)"
      ],
      "metadata": {
        "execution": {
          "iopub.status.busy": "2024-02-18T12:36:54.0654Z",
          "iopub.execute_input": "2024-02-18T12:36:54.065809Z",
          "iopub.status.idle": "2024-02-18T12:36:54.10409Z",
          "shell.execute_reply.started": "2024-02-18T12:36:54.065777Z",
          "shell.execute_reply": "2024-02-18T12:36:54.103142Z"
        },
        "trusted": true,
        "id": "iP9djWv7AjiQ"
      },
      "execution_count": null,
      "outputs": []
    },
    {
      "cell_type": "code",
      "source": [
        "# dataset contains two sections\n",
        "CIK_dict.keys()"
      ],
      "metadata": {
        "execution": {
          "iopub.status.busy": "2024-02-18T12:36:55.289025Z",
          "iopub.execute_input": "2024-02-18T12:36:55.289938Z",
          "iopub.status.idle": "2024-02-18T12:36:55.300161Z",
          "shell.execute_reply.started": "2024-02-18T12:36:55.289886Z",
          "shell.execute_reply": "2024-02-18T12:36:55.298656Z"
        },
        "trusted": true,
        "id": "AnAVKHfIAjiR"
      },
      "execution_count": null,
      "outputs": []
    },
    {
      "cell_type": "code",
      "source": [
        "# fields is specifying meaning and and order of company data\n",
        "# we will use it as columns names\n",
        "CIK_dict[\"fields\"]"
      ],
      "metadata": {
        "execution": {
          "iopub.status.busy": "2024-02-18T12:36:56.199426Z",
          "iopub.execute_input": "2024-02-18T12:36:56.200167Z",
          "iopub.status.idle": "2024-02-18T12:36:56.207461Z",
          "shell.execute_reply.started": "2024-02-18T12:36:56.200127Z",
          "shell.execute_reply": "2024-02-18T12:36:56.2062Z"
        },
        "trusted": true,
        "id": "eblPP54OAjiR"
      },
      "execution_count": null,
      "outputs": []
    },
    {
      "cell_type": "code",
      "source": [
        "# data section is list of records/lists for each company\n",
        "# we will use it as DataFrame rows\n",
        "print(\"Number of company records:\", len(CIK_dict[\"data\"]))\n",
        "CIK_dict[\"data\"][:5]    # first 5 records"
      ],
      "metadata": {
        "execution": {
          "iopub.status.busy": "2024-02-18T12:36:57.090756Z",
          "iopub.execute_input": "2024-02-18T12:36:57.091207Z",
          "iopub.status.idle": "2024-02-18T12:36:57.101204Z",
          "shell.execute_reply.started": "2024-02-18T12:36:57.091169Z",
          "shell.execute_reply": "2024-02-18T12:36:57.099866Z"
        },
        "trusted": true,
        "id": "swm80zqiAjiR"
      },
      "execution_count": null,
      "outputs": []
    },
    {
      "cell_type": "code",
      "source": [
        "# convert CIK_dict to pandas\n",
        "CIK_df = pd.DataFrame(CIK_dict[\"data\"], columns=CIK_dict[\"fields\"])\n",
        "CIK_df"
      ],
      "metadata": {
        "execution": {
          "iopub.status.busy": "2024-02-18T12:36:58.293373Z",
          "iopub.execute_input": "2024-02-18T12:36:58.293781Z",
          "iopub.status.idle": "2024-02-18T12:36:58.331543Z",
          "shell.execute_reply.started": "2024-02-18T12:36:58.293746Z",
          "shell.execute_reply": "2024-02-18T12:36:58.330398Z"
        },
        "trusted": true,
        "id": "G7yJg8DuAjiR"
      },
      "execution_count": null,
      "outputs": []
    },
    {
      "cell_type": "markdown",
      "source": [
        "## Select the ticker of company used in this example\n",
        "\n",
        "Subsequent information retrieval will be using selected `ticker` and associated CIK"
      ],
      "metadata": {
        "id": "XUP6D8gSAjiS"
      }
    },
    {
      "cell_type": "code",
      "source": [
        "# finding company row with given ticker\n",
        "ticker = \"AMMX\"\n",
        "CIK_df[CIK_df[\"ticker\"] == ticker]"
      ],
      "metadata": {
        "execution": {
          "iopub.status.busy": "2024-02-18T12:36:59.723751Z",
          "iopub.execute_input": "2024-02-18T12:36:59.724196Z",
          "iopub.status.idle": "2024-02-18T12:36:59.749137Z",
          "shell.execute_reply.started": "2024-02-18T12:36:59.72416Z",
          "shell.execute_reply": "2024-02-18T12:36:59.74772Z"
        },
        "trusted": true,
        "id": "rWi-juTDAjiS"
      },
      "execution_count": null,
      "outputs": []
    },
    {
      "cell_type": "code",
      "source": [
        "CIK = CIK_df[CIK_df[\"ticker\"] == ticker].cik.values[0]"
      ],
      "metadata": {
        "execution": {
          "iopub.status.busy": "2024-02-18T12:37:00.405291Z",
          "iopub.execute_input": "2024-02-18T12:37:00.405719Z",
          "iopub.status.idle": "2024-02-18T12:37:00.41445Z",
          "shell.execute_reply.started": "2024-02-18T12:37:00.405684Z",
          "shell.execute_reply": "2024-02-18T12:37:00.413295Z"
        },
        "trusted": true,
        "id": "oVvwdNgDAjiT"
      },
      "execution_count": null,
      "outputs": []
    },
    {
      "cell_type": "code",
      "source": [
        "# finding companies containing substring in company name\n",
        "substring = \"oil\"\n",
        "CIK_df[CIK_df[\"name\"].str.contains(substring, case=False)]"
      ],
      "metadata": {
        "execution": {
          "iopub.status.busy": "2024-02-18T12:37:00.991141Z",
          "iopub.execute_input": "2024-02-18T12:37:00.991534Z",
          "iopub.status.idle": "2024-02-18T12:37:01.026397Z",
          "shell.execute_reply.started": "2024-02-18T12:37:00.991502Z",
          "shell.execute_reply": "2024-02-18T12:37:01.025106Z"
        },
        "trusted": true,
        "id": "RW9m1y16AjiT"
      },
      "execution_count": null,
      "outputs": []
    },
    {
      "cell_type": "markdown",
      "source": [
        "# Entity’s current filing history\n",
        "\n",
        "Each entity’s current filing history is available at the following URL:\n",
        "\n",
        "* https://data.sec.gov/submissions/CIK##########.json\n",
        "\n",
        "Where the ########## is the entity’s 10-digit Central Index Key (CIK), including leading zeros.\n",
        "\n",
        "This JSON data structure contains metadata such as current name, former name, and stock exchanges and ticker symbols of publicly-traded companies. The object’s property path contains at least one year’s of filing or to 1,000 (whichever is more) of the most recent filings in a compact columnar data array. If the entity has additional filings, files will contain an array of additional JSON files and the date range for the filings each one contains."
      ],
      "metadata": {
        "id": "cWFZvIXKAjiT"
      }
    },
    {
      "cell_type": "code",
      "source": [
        "# preparation of input data, using ticker and CIK set earlier\n",
        "url = f\"https://data.sec.gov/submissions/CIK{str(CIK).zfill(10)}.json\"\n",
        "url"
      ],
      "metadata": {
        "execution": {
          "iopub.status.busy": "2024-02-18T12:37:02.471672Z",
          "iopub.execute_input": "2024-02-18T12:37:02.472136Z",
          "iopub.status.idle": "2024-02-18T12:37:02.480406Z",
          "shell.execute_reply.started": "2024-02-18T12:37:02.472096Z",
          "shell.execute_reply": "2024-02-18T12:37:02.479047Z"
        },
        "trusted": true,
        "id": "90HRj4NmAjiT"
      },
      "execution_count": null,
      "outputs": []
    },
    {
      "cell_type": "markdown",
      "source": [
        "# Reading from RESTful API\n",
        "\n",
        "EDGAR requires that HTTP requests will be identified with proper [UserAgent in header and comply with fair use policy (currently max. 10 requests per second)](https://www.sec.gov/os/accessing-edgar-data). At minimum you need to supply your own e-mail adress in User-Agent field (otherwise you will get 403/Forbiden error). If you will provide Host field, please be sure use data.sec.gov server and not www.sec.gov as mentioned in example (this would result in 404/Not Found error)."
      ],
      "metadata": {
        "id": "mMuL4vTPAjiT"
      }
    },
    {
      "cell_type": "code",
      "source": [
        "# read response from REST API with `requests` library and format it as python dict\n",
        "\n",
        "import requests\n",
        "header = {\n",
        "  \"User-Agent\": \"your.email@email.com\"#, # remaining fields are optional\n",
        "#    \"Accept-Encoding\": \"gzip, deflate\",\n",
        "#    \"Host\": \"data.sec.gov\"\n",
        "}\n",
        "\n",
        "company_filings = requests.get(url, headers=header).json()\n",
        "company_filings.keys()"
      ],
      "metadata": {
        "execution": {
          "iopub.status.busy": "2024-02-18T12:37:05.255394Z",
          "iopub.execute_input": "2024-02-18T12:37:05.255836Z",
          "iopub.status.idle": "2024-02-18T12:37:05.852741Z",
          "shell.execute_reply.started": "2024-02-18T12:37:05.255801Z",
          "shell.execute_reply": "2024-02-18T12:37:05.851656Z"
        },
        "trusted": true,
        "id": "y9SHSVwXAjiU"
      },
      "execution_count": null,
      "outputs": []
    },
    {
      "cell_type": "code",
      "source": [
        "company_filings[\"addresses\"]"
      ],
      "metadata": {
        "execution": {
          "iopub.status.busy": "2024-02-18T12:37:07.106122Z",
          "iopub.execute_input": "2024-02-18T12:37:07.106544Z",
          "iopub.status.idle": "2024-02-18T12:37:07.114245Z",
          "shell.execute_reply.started": "2024-02-18T12:37:07.106512Z",
          "shell.execute_reply": "2024-02-18T12:37:07.11304Z"
        },
        "trusted": true,
        "id": "P_H1CQu9AjiU"
      },
      "execution_count": null,
      "outputs": []
    },
    {
      "cell_type": "code",
      "source": [
        "company_filings[\"filings\"][\"recent\"].keys()"
      ],
      "metadata": {
        "execution": {
          "iopub.status.busy": "2024-02-18T12:37:07.850608Z",
          "iopub.execute_input": "2024-02-18T12:37:07.851427Z",
          "iopub.status.idle": "2024-02-18T12:37:07.866114Z",
          "shell.execute_reply.started": "2024-02-18T12:37:07.851387Z",
          "shell.execute_reply": "2024-02-18T12:37:07.864766Z"
        },
        "trusted": true,
        "id": "gVAVDkVRAjiU"
      },
      "execution_count": null,
      "outputs": []
    },
    {
      "cell_type": "markdown",
      "source": [
        "# Creating DataFrame with submitted filings\n",
        "\n",
        "`company_filings[\"filings\"][\"recent\"]` contains up to 1000 last submitted filings sorted from latest to oldest."
      ],
      "metadata": {
        "id": "GmGOSGKLAjiU"
      }
    },
    {
      "cell_type": "code",
      "source": [
        "company_filings_df = pd.DataFrame(company_filings[\"filings\"][\"recent\"])\n",
        "company_filings_df"
      ],
      "metadata": {
        "execution": {
          "iopub.status.busy": "2024-02-18T12:37:10.767154Z",
          "iopub.execute_input": "2024-02-18T12:37:10.767579Z",
          "iopub.status.idle": "2024-02-18T12:37:10.814514Z",
          "shell.execute_reply.started": "2024-02-18T12:37:10.767544Z",
          "shell.execute_reply": "2024-02-18T12:37:10.813338Z"
        },
        "trusted": true,
        "id": "g9V8l-ieAjiU"
      },
      "execution_count": null,
      "outputs": []
    },
    {
      "cell_type": "code",
      "source": [
        "# filter only Annual reports\n",
        "company_filings_df[company_filings_df.form == \"10-K\"]"
      ],
      "metadata": {
        "execution": {
          "iopub.status.busy": "2024-02-18T12:37:11.730058Z",
          "iopub.execute_input": "2024-02-18T12:37:11.730503Z",
          "iopub.status.idle": "2024-02-18T12:37:11.754193Z",
          "shell.execute_reply.started": "2024-02-18T12:37:11.730464Z",
          "shell.execute_reply": "2024-02-18T12:37:11.752896Z"
        },
        "trusted": true,
        "id": "u-M5OL2bAjiU"
      },
      "execution_count": null,
      "outputs": []
    },
    {
      "cell_type": "markdown",
      "source": [
        "# Accessing specific filing document\n",
        "\n",
        "Let's download latest Annual Report (10-K). Files are stored in browsable directory structure for CIK and accession-number:\n",
        "* https://www.sec.gov/Archives/edgar/data/{CIK}/{accession-number}/"
      ],
      "metadata": {
        "id": "GVOmeTnsAjiU"
      }
    },
    {
      "cell_type": "code",
      "source": [
        "access_number = company_filings_df[company_filings_df.form == \"10-K\"].accessionNumber.values[0].replace(\"-\", \"\")\n",
        "\n",
        "file_name = company_filings_df[company_filings_df.form == \"10-K\"].primaryDocument.values[0]\n",
        "\n",
        "url = f\"https://www.sec.gov/Archives/edgar/data/{CIK}/{access_number}/{file_name}\"\n",
        "url"
      ],
      "metadata": {
        "execution": {
          "iopub.status.busy": "2024-02-18T12:37:14.344069Z",
          "iopub.execute_input": "2024-02-18T12:37:14.3445Z",
          "iopub.status.idle": "2024-02-18T12:37:14.355663Z",
          "shell.execute_reply.started": "2024-02-18T12:37:14.344466Z",
          "shell.execute_reply": "2024-02-18T12:37:14.354443Z"
        },
        "trusted": true,
        "id": "jdjaRq_KAjiU"
      },
      "execution_count": null,
      "outputs": []
    },
    {
      "cell_type": "code",
      "source": [
        "# dowloading and saving requested document to working directory\n",
        "req_content = requests.get(url, headers=header).content.decode(\"utf-8\")\n",
        "\n",
        "with open(file_name, \"w\") as f:\n",
        "    f.write(req_content)"
      ],
      "metadata": {
        "execution": {
          "iopub.status.busy": "2024-02-18T12:37:15.744186Z",
          "iopub.execute_input": "2024-02-18T12:37:15.744581Z",
          "iopub.status.idle": "2024-02-18T12:37:16.17876Z",
          "shell.execute_reply.started": "2024-02-18T12:37:15.744547Z",
          "shell.execute_reply": "2024-02-18T12:37:16.177691Z"
        },
        "trusted": true,
        "id": "ERdJbShvAjiU"
      },
      "execution_count": null,
      "outputs": []
    },
    {
      "cell_type": "markdown",
      "source": [
        "## and saving it as PDF\n"
      ],
      "metadata": {
        "id": "qXJSlhGWAjiU"
      }
    },
    {
      "cell_type": "code",
      "source": [
        "pip install weasyprint"
      ],
      "metadata": {
        "execution": {
          "iopub.status.busy": "2024-02-18T12:37:17.990875Z",
          "iopub.execute_input": "2024-02-18T12:37:17.991348Z",
          "iopub.status.idle": "2024-02-18T12:37:35.635757Z",
          "shell.execute_reply.started": "2024-02-18T12:37:17.991309Z",
          "shell.execute_reply": "2024-02-18T12:37:35.634613Z"
        },
        "trusted": true,
        "id": "MnGyXtWwAjiU"
      },
      "execution_count": null,
      "outputs": []
    },
    {
      "cell_type": "code",
      "source": [
        "from weasyprint import HTML\n",
        "\n",
        "HTML(string=req_content, base_url=\"\").write_pdf(file_name + \".pdf\")"
      ],
      "metadata": {
        "execution": {
          "iopub.status.busy": "2024-02-18T12:37:35.638258Z",
          "iopub.execute_input": "2024-02-18T12:37:35.638925Z",
          "iopub.status.idle": "2024-02-18T12:37:57.08438Z",
          "shell.execute_reply.started": "2024-02-18T12:37:35.638867Z",
          "shell.execute_reply": "2024-02-18T12:37:57.083164Z"
        },
        "trusted": true,
        "id": "r0qdw83hAjiV"
      },
      "execution_count": null,
      "outputs": []
    },
    {
      "cell_type": "code",
      "source": [
        "!ls -al ."
      ],
      "metadata": {
        "execution": {
          "iopub.status.busy": "2024-02-18T12:37:59.740458Z",
          "iopub.execute_input": "2024-02-18T12:37:59.740887Z",
          "iopub.status.idle": "2024-02-18T12:38:00.844761Z",
          "shell.execute_reply.started": "2024-02-18T12:37:59.740838Z",
          "shell.execute_reply": "2024-02-18T12:38:00.843152Z"
        },
        "trusted": true,
        "id": "k1an06WlAjiV"
      },
      "execution_count": null,
      "outputs": []
    },
    {
      "cell_type": "markdown",
      "source": [
        "# XBRL data APIs\n",
        "\n",
        "Extensible Business Markup Language (XBRL) is an XML-based format for reporting financial statements used by the SEC and financial regulatory agencies across the world. XBRL, in a separate XML file or more recently embedded in quarterly and annual HTML reports as inline XBRL, was first required by the SEC in 2009. XBRL facts must be associated for a standard US-GAAP or IFRS taxonomy. Companies can also extend standard taxonomies with their own custom taxonomies.\n",
        "\n",
        "The following XBRL APIs aggregate facts from across submissions that\n",
        "1. Use a non-custom taxonomy (e.g. us-gaap, ifrs-full, dei, or srt)\n",
        "1. Apply to the entire filing entity\n",
        "\n",
        "This ensures that facts have a consistent context and meaning across companies and between filings and are comparable between companies and across time.\n",
        "\n",
        "## All company concepts data\n",
        "## data.sec.gov/api/xbrl/companyfacts/\n",
        "\n",
        "This API returns all the company concepts data for a company into a single API call:\n",
        "\n",
        "* https://data.sec.gov/api/xbrl/companyfacts/CIK##########.json"
      ],
      "metadata": {
        "id": "mLjlFm3PAjiV"
      }
    },
    {
      "cell_type": "code",
      "source": [
        "url = f\"https://data.sec.gov/api/xbrl/companyfacts/CIK{str(CIK).zfill(10)}.json\"\n",
        "url"
      ],
      "metadata": {
        "execution": {
          "iopub.status.busy": "2024-02-17T14:52:43.882506Z",
          "iopub.execute_input": "2024-02-17T14:52:43.882999Z",
          "iopub.status.idle": "2024-02-17T14:52:43.89109Z",
          "shell.execute_reply.started": "2024-02-17T14:52:43.882961Z",
          "shell.execute_reply": "2024-02-17T14:52:43.889515Z"
        },
        "trusted": true,
        "id": "Cr-ZbOyoAjiV"
      },
      "execution_count": null,
      "outputs": []
    },
    {
      "cell_type": "code",
      "source": [
        "company_facts = requests.get(url, headers=header).json()\n",
        "\n",
        "# get the current assets values as reported over time and make it pandas DataFrame\n",
        "curr_assets_df = pd.DataFrame(company_facts[\"facts\"][\"us-gaap\"][\"AssetsCurrent\"][\"units\"][\"USD\"])\n",
        "curr_assets_df"
      ],
      "metadata": {
        "execution": {
          "iopub.status.busy": "2024-02-17T14:52:44.353534Z",
          "iopub.execute_input": "2024-02-17T14:52:44.35399Z",
          "iopub.status.idle": "2024-02-17T14:52:44.841606Z",
          "shell.execute_reply.started": "2024-02-17T14:52:44.353944Z",
          "shell.execute_reply": "2024-02-17T14:52:44.840276Z"
        },
        "trusted": true,
        "id": "0aK6dqT0AjiV"
      },
      "execution_count": null,
      "outputs": []
    },
    {
      "cell_type": "code",
      "source": [
        "# get just values reported in valid frame and plot them\n",
        "curr_assets_df[curr_assets_df.frame.notna()]\n"
      ],
      "metadata": {
        "execution": {
          "iopub.status.busy": "2024-02-17T14:52:48.931757Z",
          "iopub.execute_input": "2024-02-17T14:52:48.932178Z",
          "iopub.status.idle": "2024-02-17T14:52:48.954309Z",
          "shell.execute_reply.started": "2024-02-17T14:52:48.932144Z",
          "shell.execute_reply": "2024-02-17T14:52:48.952772Z"
        },
        "trusted": true,
        "id": "uJushG-kAjiV"
      },
      "execution_count": null,
      "outputs": []
    },
    {
      "cell_type": "code",
      "source": [
        "import plotly.express as px\n",
        "pd.options.plotting.backend = \"plotly\"\n",
        "\n",
        "curr_assets_df.plot(x=\"end\", y=\"val\",\n",
        "                    title=f\"{company_filings['name']}, {ticker}: Current Assets\",\n",
        "                   labels= {\n",
        "                       \"val\": \"Value ($)\",\n",
        "                       \"end\": \"Quarter End\"\n",
        "                   })"
      ],
      "metadata": {
        "execution": {
          "iopub.status.busy": "2024-02-17T14:52:52.480123Z",
          "iopub.execute_input": "2024-02-17T14:52:52.480579Z",
          "iopub.status.idle": "2024-02-17T14:52:55.474754Z",
          "shell.execute_reply.started": "2024-02-17T14:52:52.480538Z",
          "shell.execute_reply": "2024-02-17T14:52:55.473383Z"
        },
        "trusted": true,
        "id": "FeE8DV6qAjiV"
      },
      "execution_count": null,
      "outputs": []
    },
    {
      "cell_type": "markdown",
      "source": [
        "## Getting datapoints of single concept\n",
        "## data.sec.gov/api/xbrl/companyconcept/\n",
        "\n",
        "The company-concept API returns all the XBRL disclosures from a single company (CIK) and concept (a taxonomy and tag) into a single JSON file, with a separate array of facts for each units on measure that the company has chosen to disclose (e.g. net profits reported in U.S. dollars and in Canadian dollars).\n",
        "\n",
        "* https://data.sec.gov/api/xbrl/companyconcept/CIK##########/us-gaap/AccountsPayableCurrent.json\n"
      ],
      "metadata": {
        "id": "RWpFxwlrAjiV"
      }
    },
    {
      "cell_type": "code",
      "source": [
        "# let's retrieve current assets for comparision with company facts API\n",
        "url = f\"https://data.sec.gov/api/xbrl/companyconcept/CIK{str(CIK).zfill(10)}/us-gaap/AssetsCurrent.json\"\n",
        "url"
      ],
      "metadata": {
        "execution": {
          "iopub.status.busy": "2024-02-17T14:52:55.477217Z",
          "iopub.execute_input": "2024-02-17T14:52:55.477812Z",
          "iopub.status.idle": "2024-02-17T14:52:55.48668Z",
          "shell.execute_reply.started": "2024-02-17T14:52:55.477769Z",
          "shell.execute_reply": "2024-02-17T14:52:55.485535Z"
        },
        "trusted": true,
        "id": "1jLi7wv1AjiV"
      },
      "execution_count": null,
      "outputs": []
    },
    {
      "cell_type": "code",
      "source": [
        "curr_assets_dict = requests.get(url, headers=header).json()\n",
        "curr_assets_dict.keys()"
      ],
      "metadata": {
        "execution": {
          "iopub.status.busy": "2024-02-17T14:52:57.112565Z",
          "iopub.execute_input": "2024-02-17T14:52:57.113822Z",
          "iopub.status.idle": "2024-02-17T14:52:57.35185Z",
          "shell.execute_reply.started": "2024-02-17T14:52:57.11378Z",
          "shell.execute_reply": "2024-02-17T14:52:57.350475Z"
        },
        "trusted": true,
        "id": "aG3M6wmqAjiV"
      },
      "execution_count": null,
      "outputs": []
    },
    {
      "cell_type": "code",
      "source": [
        "curr_assets_dict[\"tag\"]"
      ],
      "metadata": {
        "execution": {
          "iopub.status.busy": "2023-05-16T18:39:40.291195Z",
          "iopub.execute_input": "2023-05-16T18:39:40.291856Z",
          "iopub.status.idle": "2023-05-16T18:39:40.302396Z",
          "shell.execute_reply.started": "2023-05-16T18:39:40.291707Z",
          "shell.execute_reply": "2023-05-16T18:39:40.300738Z"
        },
        "trusted": true,
        "id": "9gOxlZbXAjiV"
      },
      "execution_count": null,
      "outputs": []
    },
    {
      "cell_type": "code",
      "source": [
        "# first 5 datapoints\n",
        "curr_assets_dict[\"units\"][\"USD\"][:5]"
      ],
      "metadata": {
        "execution": {
          "iopub.status.busy": "2023-05-16T18:40:02.38849Z",
          "iopub.execute_input": "2023-05-16T18:40:02.388948Z",
          "iopub.status.idle": "2023-05-16T18:40:02.399619Z",
          "shell.execute_reply.started": "2023-05-16T18:40:02.388905Z",
          "shell.execute_reply": "2023-05-16T18:40:02.397873Z"
        },
        "trusted": true,
        "id": "SD9spNKhAjiY"
      },
      "execution_count": null,
      "outputs": []
    },
    {
      "cell_type": "code",
      "source": [
        "# this should be resulting in same DataFrame as retrieved through companyfacts API and selected through taxonomy us-gaap, AssetsCurrent concept/tag and units USD\n",
        "curr_assets_df = pd.DataFrame(curr_assets_dict[\"units\"][\"USD\"])\n",
        "curr_assets_df"
      ],
      "metadata": {
        "execution": {
          "iopub.status.busy": "2023-05-16T18:40:26.679129Z",
          "iopub.execute_input": "2023-05-16T18:40:26.679623Z",
          "iopub.status.idle": "2023-05-16T18:40:26.707197Z",
          "shell.execute_reply.started": "2023-05-16T18:40:26.679585Z",
          "shell.execute_reply": "2023-05-16T18:40:26.705294Z"
        },
        "trusted": true,
        "id": "zR_y7hHYAjiY"
      },
      "execution_count": null,
      "outputs": []
    },
    {
      "cell_type": "markdown",
      "source": [
        "## Getting one fact from requested period/frame\n",
        "## data.sec.gov/api/xbrl/frames/\n",
        "\n",
        "The xbrl/frames API aggregates one fact for **each** reporting entity that is last filed that most closely fits the calendrical period requested. This API supports for annual, quarterly and instantaneous data:\n",
        "\n",
        "* https://data.sec.gov/api/xbrl/frames/us-gaap/AccountsPayableCurrent/USD/CY2019Q1I.json\n",
        "\n",
        "Where the units of measure specified in the XBRL contains a numerator and a denominator, these are separated by “-per-” such as “USD-per-shares”. Note that the default unit in XBRL is “pure”.\n",
        "\n",
        "The period format is CY#### for annual data (duration 365 days +/- 30 days), CY####Q# for quarterly data (duration 91 days +/- 30 days), and CY####Q#I for instantaneous data. Because company financial calendars can start and end on any month or day and even change in length from quarter to quarter to according to the day of the week, the frame data is assembled by the dates that best align with a calendar quarter or year. Data users should be mindful different reporting start and end dates for facts contained in a frame."
      ],
      "metadata": {
        "id": "dvi6Zzf8AjiY"
      }
    },
    {
      "cell_type": "code",
      "source": [
        "# Let's retrieve all data about current assets in Q4 of 2021\n",
        "fact = \"AssetsCurrent\"\n",
        "year = 2021\n",
        "quarter = \"Q1I\"\n",
        "\n",
        "url = f\"https://data.sec.gov/api/xbrl/frames/us-gaap/{fact}/USD/CY{year}{quarter}.json\"\n",
        "url"
      ],
      "metadata": {
        "execution": {
          "iopub.status.busy": "2023-05-16T18:41:07.384121Z",
          "iopub.execute_input": "2023-05-16T18:41:07.384633Z",
          "iopub.status.idle": "2023-05-16T18:41:07.39367Z",
          "shell.execute_reply.started": "2023-05-16T18:41:07.384594Z",
          "shell.execute_reply": "2023-05-16T18:41:07.392336Z"
        },
        "trusted": true,
        "id": "1xMg523uAjiY"
      },
      "execution_count": null,
      "outputs": []
    },
    {
      "cell_type": "code",
      "source": [
        "curr_assets_dict = requests.get(url, headers=header).json()\n",
        "curr_assets_dict.keys()"
      ],
      "metadata": {
        "execution": {
          "iopub.status.busy": "2023-05-16T18:41:15.199435Z",
          "iopub.execute_input": "2023-05-16T18:41:15.199877Z",
          "iopub.status.idle": "2023-05-16T18:41:15.617134Z",
          "shell.execute_reply.started": "2023-05-16T18:41:15.199845Z",
          "shell.execute_reply": "2023-05-16T18:41:15.616096Z"
        },
        "trusted": true,
        "id": "HutIOp2OAjiY"
      },
      "execution_count": null,
      "outputs": []
    },
    {
      "cell_type": "code",
      "source": [
        "# let's convert all data of requested period to pandas dataframe\n",
        "curr_assets_df = pd.DataFrame(curr_assets_dict[\"data\"])\n",
        "curr_assets_df.sort_values(\"val\", ascending=False)"
      ],
      "metadata": {
        "execution": {
          "iopub.status.busy": "2023-05-16T18:41:21.32898Z",
          "iopub.execute_input": "2023-05-16T18:41:21.329444Z",
          "iopub.status.idle": "2023-05-16T18:41:21.367309Z",
          "shell.execute_reply.started": "2023-05-16T18:41:21.329408Z",
          "shell.execute_reply": "2023-05-16T18:41:21.366157Z"
        },
        "trusted": true,
        "id": "c1BmkweYAjiZ"
      },
      "execution_count": null,
      "outputs": []
    },
    {
      "cell_type": "code",
      "source": [
        "company_facts[\"facts\"].keys()"
      ],
      "metadata": {
        "execution": {
          "iopub.status.busy": "2023-05-16T19:33:00.079072Z",
          "iopub.execute_input": "2023-05-16T19:33:00.079579Z",
          "iopub.status.idle": "2023-05-16T19:33:00.08712Z",
          "shell.execute_reply.started": "2023-05-16T19:33:00.079541Z",
          "shell.execute_reply": "2023-05-16T19:33:00.085923Z"
        },
        "trusted": true,
        "id": "ZAJ1Xx7DAjiZ"
      },
      "execution_count": null,
      "outputs": []
    },
    {
      "cell_type": "code",
      "source": [
        "company_facts[\"entityName\"]"
      ],
      "metadata": {
        "execution": {
          "iopub.status.busy": "2023-05-16T19:22:44.678605Z",
          "iopub.execute_input": "2023-05-16T19:22:44.679118Z",
          "iopub.status.idle": "2023-05-16T19:22:44.68768Z",
          "shell.execute_reply.started": "2023-05-16T19:22:44.679082Z",
          "shell.execute_reply": "2023-05-16T19:22:44.686148Z"
        },
        "trusted": true,
        "id": "ey9PK2OWAjiZ"
      },
      "execution_count": null,
      "outputs": []
    },
    {
      "cell_type": "code",
      "source": [
        "CIK = 320193\n",
        "url = f\"https://data.sec.gov/api/xbrl/companyconcept/CIK{str(CIK).zfill(10)}/dei/EntityRegistrantName.json\"\n",
        "url"
      ],
      "metadata": {
        "execution": {
          "iopub.status.busy": "2023-05-16T18:44:24.998801Z",
          "iopub.execute_input": "2023-05-16T18:44:25.000286Z",
          "iopub.status.idle": "2023-05-16T18:44:25.008788Z",
          "shell.execute_reply.started": "2023-05-16T18:44:25.000221Z",
          "shell.execute_reply": "2023-05-16T18:44:25.007787Z"
        },
        "trusted": true,
        "id": "M3m_1HqxAjiZ"
      },
      "execution_count": null,
      "outputs": []
    },
    {
      "cell_type": "markdown",
      "source": [
        "![SEC logo](https://www.pngkit.com/png/detail/177-1773725_seal-of-the-united-states-securities-and-exchange.png)"
      ],
      "metadata": {
        "id": "E6eWXbrcAjiZ"
      }
    }
  ]
}